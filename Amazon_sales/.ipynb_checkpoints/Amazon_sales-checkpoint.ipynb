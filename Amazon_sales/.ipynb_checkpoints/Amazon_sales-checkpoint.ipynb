{
 "cells": [
  {
   "cell_type": "code",
   "execution_count": 1,
   "id": "d6f58d34-c2db-4e5d-84b9-7e8c1c63dc70",
   "metadata": {},
   "outputs": [],
   "source": [
    "import pandas as pd \n",
    "import numpy as np \n",
    "import matplotlib.pyplot as plt \n",
    "import seaborn as sns\n",
    "from scipy import stats"
   ]
  },
  {
   "cell_type": "code",
   "execution_count": 2,
   "id": "fd689de8-31ee-4e40-9976-6a4458604ae1",
   "metadata": {},
   "outputs": [],
   "source": [
    "df = pd.read_csv('amazon.csv')"
   ]
  },
  {
   "cell_type": "code",
   "execution_count": 3,
   "id": "9419106d-e39f-4d45-8f80-8d7d674e08be",
   "metadata": {},
   "outputs": [
    {
     "name": "stdout",
     "output_type": "stream",
     "text": [
      "   product_id                                       product_name  \\\n",
      "0  B07JW9H4J1  Wayona Nylon Braided USB to Lightning Fast Cha...   \n",
      "1  B098NS6PVG  Ambrane Unbreakable 60W / 3A Fast Charging 1.5...   \n",
      "2  B096MSW6CT  Sounce Fast Phone Charging Cable & Data Sync U...   \n",
      "3  B08HDJ86NZ  boAt Deuce USB 300 2 in 1 Type-C & Micro USB S...   \n",
      "4  B08CF3B7N1  Portronics Konnect L 1.2M Fast Charging 3A 8 P...   \n",
      "\n",
      "                                            category discounted_price  \\\n",
      "0  Computers&Accessories|Accessories&Peripherals|...             ₹399   \n",
      "1  Computers&Accessories|Accessories&Peripherals|...             ₹199   \n",
      "2  Computers&Accessories|Accessories&Peripherals|...             ₹199   \n",
      "3  Computers&Accessories|Accessories&Peripherals|...             ₹329   \n",
      "4  Computers&Accessories|Accessories&Peripherals|...             ₹154   \n",
      "\n",
      "  actual_price discount_percentage rating rating_count  \\\n",
      "0       ₹1,099                 64%    4.2       24,269   \n",
      "1         ₹349                 43%    4.0       43,994   \n",
      "2       ₹1,899                 90%    3.9        7,928   \n",
      "3         ₹699                 53%    4.2       94,363   \n",
      "4         ₹399                 61%    4.2       16,905   \n",
      "\n",
      "                                       about_product  \\\n",
      "0  High Compatibility : Compatible With iPhone 12...   \n",
      "1  Compatible with all Type C enabled devices, be...   \n",
      "2  【 Fast Charger& Data Sync】-With built-in safet...   \n",
      "3  The boAt Deuce USB 300 2 in 1 cable is compati...   \n",
      "4  [CHARGE & SYNC FUNCTION]- This cable comes wit...   \n",
      "\n",
      "                                             user_id  \\\n",
      "0  AG3D6O4STAQKAY2UVGEUV46KN35Q,AHMY5CWJMMK5BJRBB...   \n",
      "1  AECPFYFQVRUWC3KGNLJIOREFP5LQ,AGYYVPDD7YG7FYNBX...   \n",
      "2  AGU3BBQ2V2DDAMOAKGFAWDDQ6QHA,AESFLDV2PT363T2AQ...   \n",
      "3  AEWAZDZZJLQUYVOVGBEUKSLXHQ5A,AG5HTSFRRE6NL3M5S...   \n",
      "4  AE3Q6KSUK5P75D5HFYHCRAOLODSA,AFUGIFH5ZAFXRDSZH...   \n",
      "\n",
      "                                           user_name  \\\n",
      "0  Manav,Adarsh gupta,Sundeep,S.Sayeed Ahmed,jasp...   \n",
      "1  ArdKn,Nirbhay kumar,Sagar Viswanathan,Asp,Plac...   \n",
      "2  Kunal,Himanshu,viswanath,sai niharka,saqib mal...   \n",
      "3  Omkar dhale,JD,HEMALATHA,Ajwadh a.,amar singh ...   \n",
      "4  rahuls6099,Swasat Borah,Ajay Wadke,Pranali,RVK...   \n",
      "\n",
      "                                           review_id  \\\n",
      "0  R3HXWT0LRP0NMF,R2AJM3LFTLZHFO,R6AQJGUP6P86,R1K...   \n",
      "1  RGIQEG07R9HS2,R1SMWZQ86XIN8U,R2J3Y1WL29GWDE,RY...   \n",
      "2  R3J3EQQ9TZI5ZJ,R3E7WBGK7ID0KV,RWU79XKQ6I1QF,R2...   \n",
      "3  R3EEUZKKK9J36I,R3HJVYCLYOY554,REDECAZ7AMPQC,R1...   \n",
      "4  R1BP4L2HH9TFUP,R16PVJEXKV6QZS,R2UPDB81N66T4P,R...   \n",
      "\n",
      "                                        review_title  \\\n",
      "0  Satisfied,Charging is really fast,Value for mo...   \n",
      "1  A Good Braided Cable for Your Type C Device,Go...   \n",
      "2  Good speed for earlier versions,Good Product,W...   \n",
      "3  Good product,Good one,Nice,Really nice product...   \n",
      "4  As good as original,Decent,Good one for second...   \n",
      "\n",
      "                                      review_content  \\\n",
      "0  Looks durable Charging is fine tooNo complains...   \n",
      "1  I ordered this cable to connect my phone to An...   \n",
      "2  Not quite durable and sturdy,https://m.media-a...   \n",
      "3  Good product,long wire,Charges good,Nice,I bou...   \n",
      "4  Bought this instead of original apple, does th...   \n",
      "\n",
      "                                            img_link  \\\n",
      "0  https://m.media-amazon.com/images/W/WEBP_40237...   \n",
      "1  https://m.media-amazon.com/images/W/WEBP_40237...   \n",
      "2  https://m.media-amazon.com/images/W/WEBP_40237...   \n",
      "3  https://m.media-amazon.com/images/I/41V5FtEWPk...   \n",
      "4  https://m.media-amazon.com/images/W/WEBP_40237...   \n",
      "\n",
      "                                        product_link  \n",
      "0  https://www.amazon.in/Wayona-Braided-WN3LG1-Sy...  \n",
      "1  https://www.amazon.in/Ambrane-Unbreakable-Char...  \n",
      "2  https://www.amazon.in/Sounce-iPhone-Charging-C...  \n",
      "3  https://www.amazon.in/Deuce-300-Resistant-Tang...  \n",
      "4  https://www.amazon.in/Portronics-Konnect-POR-1...  \n"
     ]
    }
   ],
   "source": [
    "print(df.head())"
   ]
  },
  {
   "cell_type": "code",
   "execution_count": null,
   "id": "186f7338-9953-4d0c-b325-d2b602b91259",
   "metadata": {},
   "outputs": [],
   "source": []
  },
  {
   "cell_type": "code",
   "execution_count": 4,
   "id": "0e5a57ed-d36b-4e35-a19e-8b721c3f644a",
   "metadata": {},
   "outputs": [],
   "source": [
    "df = df.drop_duplicates(subset = ['product_id'])"
   ]
  },
  {
   "cell_type": "code",
   "execution_count": 5,
   "id": "b7e125f2-defb-4cee-9aec-477a1efe219a",
   "metadata": {},
   "outputs": [
    {
     "name": "stdout",
     "output_type": "stream",
     "text": [
      "Empty DataFrame\n",
      "Columns: [product_id, product_link]\n",
      "Index: []\n"
     ]
    }
   ],
   "source": [
    "print(df[['product_id', 'product_link']][df.duplicated(subset = 'product_id') == True])"
   ]
  },
  {
   "cell_type": "code",
   "execution_count": 6,
   "id": "1861bca7-6453-476a-8443-9d5324c9bf07",
   "metadata": {},
   "outputs": [
    {
     "name": "stdout",
     "output_type": "stream",
     "text": [
      "(1351, 16)\n"
     ]
    }
   ],
   "source": [
    "print(df.shape)"
   ]
  },
  {
   "cell_type": "code",
   "execution_count": 7,
   "id": "6387f89f-ebe1-474b-b460-8e69ce459422",
   "metadata": {},
   "outputs": [
    {
     "name": "stdout",
     "output_type": "stream",
     "text": [
      "1351\n"
     ]
    }
   ],
   "source": [
    "print(df.product_id.nunique())"
   ]
  },
  {
   "cell_type": "code",
   "execution_count": 8,
   "id": "e082c1c8-e0d8-4b2d-b971-9a635849eed8",
   "metadata": {},
   "outputs": [
    {
     "name": "stdout",
     "output_type": "stream",
     "text": [
      "1351\n"
     ]
    }
   ],
   "source": [
    "print(df.product_link.nunique())"
   ]
  },
  {
   "cell_type": "code",
   "execution_count": 9,
   "id": "bd932661-5fc7-4552-9bbc-3a92e46f1dd3",
   "metadata": {},
   "outputs": [
    {
     "name": "stdout",
     "output_type": "stream",
     "text": [
      "1186\n"
     ]
    }
   ],
   "source": [
    "print(df.user_id.nunique())"
   ]
  },
  {
   "cell_type": "code",
   "execution_count": 10,
   "id": "dc87d90f-ac5c-4d94-a860-7c566b76aee7",
   "metadata": {},
   "outputs": [
    {
     "name": "stdout",
     "output_type": "stream",
     "text": [
      "AG3D6O4STAQKAY2UVGEUV46KN35Q,AHMY5CWJMMK5BJRBBSNLYT3ONILA,AHCTC6ULH4XB6YHDY6PCH2R772LQ,AGYHHIERNXKA6P5T7CZLXKVPT7IQ,AG4OGOFWXJZTQ2HKYIOCOY3KXF2Q,AENGU523SXMOS7JPDTW52PNNVWGQ,AEQJHCVTNINBS4FKTBGQRQTGTE5Q,AFC3FFC5PKFF5PMA52S3VCHOZ5FQ\n"
     ]
    }
   ],
   "source": [
    "print(df.user_id[0])"
   ]
  },
  {
   "cell_type": "code",
   "execution_count": 11,
   "id": "ac31faf8-dc77-4dbc-ae78-fc7a6adcbca6",
   "metadata": {},
   "outputs": [
    {
     "name": "stdout",
     "output_type": "stream",
     "text": [
      "211\n"
     ]
    }
   ],
   "source": [
    "print(df.category.nunique())"
   ]
  },
  {
   "cell_type": "code",
   "execution_count": 12,
   "id": "9cd8200e-03ee-4118-b24d-fcf042b6ccdc",
   "metadata": {},
   "outputs": [
    {
     "name": "stdout",
     "output_type": "stream",
     "text": [
      "category\n",
      "Computers&Accessories|Accessories&Peripherals|Cables&Accessories|Cables|USBCables    0.119171\n",
      "Electronics|Mobiles&Accessories|Smartphones&BasicMobiles|Smartphones                 0.050333\n",
      "Electronics|WearableTechnology|SmartWatches                                          0.045892\n",
      "Electronics|HomeTheater,TV&Video|Televisions|SmartTelevisions                        0.044412\n",
      "Electronics|Headphones,Earbuds&Accessories|Headphones|In-Ear                         0.037750\n",
      "Name: proportion, dtype: float64\n"
     ]
    }
   ],
   "source": [
    "print(df.category.value_counts(normalize=True).head())"
   ]
  },
  {
   "cell_type": "code",
   "execution_count": 13,
   "id": "24ff3c4d-cb63-4931-9ef6-7e14f8a0ecf9",
   "metadata": {},
   "outputs": [
    {
     "name": "stdout",
     "output_type": "stream",
     "text": [
      "product_id             0\n",
      "product_name           0\n",
      "category               0\n",
      "discounted_price       0\n",
      "actual_price           0\n",
      "discount_percentage    0\n",
      "rating                 0\n",
      "rating_count           2\n",
      "about_product          0\n",
      "user_id                0\n",
      "user_name              0\n",
      "review_id              0\n",
      "review_title           0\n",
      "review_content         0\n",
      "img_link               0\n",
      "product_link           0\n",
      "dtype: int64\n"
     ]
    }
   ],
   "source": [
    "print(df.isna().sum())"
   ]
  },
  {
   "cell_type": "code",
   "execution_count": 14,
   "id": "0c73f68e-205e-4446-ae16-cba6b83d95fd",
   "metadata": {},
   "outputs": [
    {
     "name": "stdout",
     "output_type": "stream",
     "text": [
      "     product_id                                       product_name  \\\n",
      "282  B0B94JPY2N  Amazon Brand - Solimo 65W Fast Charging Braide...   \n",
      "324  B0BQRJ3C47  REDTECH USB-C to Lightning Cable 3.3FT, [Apple...   \n",
      "\n",
      "                                              category discounted_price  \\\n",
      "282  Computers&Accessories|Accessories&Peripherals|...             ₹199   \n",
      "324  Computers&Accessories|Accessories&Peripherals|...             ₹249   \n",
      "\n",
      "    actual_price discount_percentage rating rating_count  \\\n",
      "282         ₹999                 80%    3.0          NaN   \n",
      "324         ₹999                 75%    5.0          NaN   \n",
      "\n",
      "                                         about_product  \\\n",
      "282  USB C to C Cable: This cable has type C connec...   \n",
      "324  💎[The Fastest Charge] - This iPhone USB C cabl...   \n",
      "\n",
      "                          user_id    user_name      review_id  \\\n",
      "282  AE7CFHY23VAJT2FI4NZKKP6GS2UQ       Pranav   RUB7U91HVZ30   \n",
      "324  AGJC5O5H5BBXWUV7WRIEIOOR3TVQ  Abdul Gafur  RQXD5SAMMPC6L   \n",
      "\n",
      "                                     review_title  \\\n",
      "282  The cable works but is not 65W as advertised   \n",
      "324                               Awesome Product   \n",
      "\n",
      "                                        review_content  \\\n",
      "282  I have a pd supported car charger and I bought...   \n",
      "324  Quick delivery.Awesome ProductPacking was good...   \n",
      "\n",
      "                                              img_link  \\\n",
      "282  https://m.media-amazon.com/images/W/WEBP_40237...   \n",
      "324  https://m.media-amazon.com/images/I/31-q0xhaTA...   \n",
      "\n",
      "                                          product_link  \n",
      "282  https://www.amazon.in/Amazon-Brand-Charging-Su...  \n",
      "324  https://www.amazon.in/REDTECH-Lightning-Certif...  \n"
     ]
    }
   ],
   "source": [
    "print(df[df.rating_count.isna()])"
   ]
  },
  {
   "cell_type": "code",
   "execution_count": 15,
   "id": "23b93588-d464-4eac-9eb5-d64d91067720",
   "metadata": {},
   "outputs": [],
   "source": [
    "#There's two missing values in the rating_count column (n° of user who left a rating for the product), the simplest solution is simply discarding the two rows. \n",
    "\n",
    "df = df.dropna()"
   ]
  },
  {
   "cell_type": "code",
   "execution_count": 16,
   "id": "7465a053-bbed-4431-886d-6ebab9903a4f",
   "metadata": {},
   "outputs": [
    {
     "name": "stdout",
     "output_type": "stream",
     "text": [
      "product_id             0\n",
      "product_name           0\n",
      "category               0\n",
      "discounted_price       0\n",
      "actual_price           0\n",
      "discount_percentage    0\n",
      "rating                 0\n",
      "rating_count           0\n",
      "about_product          0\n",
      "user_id                0\n",
      "user_name              0\n",
      "review_id              0\n",
      "review_title           0\n",
      "review_content         0\n",
      "img_link               0\n",
      "product_link           0\n",
      "dtype: int64\n"
     ]
    }
   ],
   "source": [
    "print(df.isna().sum())"
   ]
  },
  {
   "cell_type": "code",
   "execution_count": 17,
   "id": "b371158d-dfcf-4878-bf13-7a4cff295aee",
   "metadata": {},
   "outputs": [
    {
     "name": "stdout",
     "output_type": "stream",
     "text": [
      "product_id             object\n",
      "product_name           object\n",
      "category               object\n",
      "discounted_price       object\n",
      "actual_price           object\n",
      "discount_percentage    object\n",
      "rating                 object\n",
      "rating_count           object\n",
      "about_product          object\n",
      "user_id                object\n",
      "user_name              object\n",
      "review_id              object\n",
      "review_title           object\n",
      "review_content         object\n",
      "img_link               object\n",
      "product_link           object\n",
      "dtype: object\n"
     ]
    }
   ],
   "source": [
    "print(df.dtypes)\n",
    "#Each column is of type object including the numerical variables, this needs to be fixed"
   ]
  },
  {
   "cell_type": "code",
   "execution_count": null,
   "id": "552051f0-3a3c-48a3-a9ca-d71c916fc8c0",
   "metadata": {},
   "outputs": [],
   "source": [
    "print(df.rating[df.rating == '|'])\n",
    "df.rating.loc[1279] = 0\n",
    "print(df.rating[1279])"
   ]
  },
  {
   "cell_type": "code",
   "execution_count": 19,
   "id": "e2789150-3ee8-4bbe-8709-67ca0c5c4c0a",
   "metadata": {},
   "outputs": [
    {
     "name": "stdout",
     "output_type": "stream",
     "text": [
      "float64\n"
     ]
    }
   ],
   "source": [
    "df.rating = df.rating.astype(float)\n",
    "print(df.rating.dtype)"
   ]
  },
  {
   "cell_type": "code",
   "execution_count": null,
   "id": "73bacf1e-c8f6-4fa6-b845-0e888db73fbe",
   "metadata": {},
   "outputs": [],
   "source": [
    "df.rating.loc[1279] = df.rating.median()\n",
    "print(df.rating[1279])"
   ]
  },
  {
   "cell_type": "code",
   "execution_count": 21,
   "id": "07712d35-1ff3-4f52-b7c4-cec1aaafb10c",
   "metadata": {},
   "outputs": [
    {
     "data": {
      "image/png": "[encoded data removed]",
      "text/plain": [
       "<Figure size 640x480 with 1 Axes>"
      ]
     },
     "metadata": {},
     "output_type": "display_data"
    },
    {
     "name": "stdout",
     "output_type": "stream",
     "text": [
      "Shapiro p-val: 3.1987801368036147e-25\n"
     ]
    }
   ],
   "source": [
    "sns.histplot(df.rating, kde = True)\n",
    "plt.axvline(x = df.rating.median(), color = 'k', linestyle = '--', label = 'Median')\n",
    "plt.axvline(x = df.rating.mean(), color = 'r', linestyle = '--', label = 'Mean')\n",
    "plt.legend()\n",
    "plt.show()\n",
    "plt.close()\n",
    "shapiro_test = stats.shapiro(df.rating)\n",
    "print(f'Shapiro p-val: {shapiro_test.pvalue}') #This tells us that the distribution is not normal"
   ]
  },
  {
   "cell_type": "code",
   "execution_count": 22,
   "id": "8d768a7f-9e54-4fba-8632-4671da01a67a",
   "metadata": {},
   "outputs": [
    {
     "name": "stdout",
     "output_type": "stream",
     "text": [
      "Electronics|HomeTheater,TV&Video|Televisions|SmartTelevisions\n"
     ]
    }
   ],
   "source": [
    "print(df.category.iloc[282])"
   ]
  },
  {
   "cell_type": "code",
   "execution_count": 23,
   "id": "452cda54-e011-4d7d-86a3-5890105fee36",
   "metadata": {
    "scrolled": true
   },
   "outputs": [
    {
     "name": "stdout",
     "output_type": "stream",
     "text": [
      "Computers&Accessories\n",
      "                                        product_name  \\\n",
      "0  Wayona Nylon Braided USB to Lightning Fast Cha...   \n",
      "1  Ambrane Unbreakable 60W / 3A Fast Charging 1.5...   \n",
      "2  Sounce Fast Phone Charging Cable & Data Sync U...   \n",
      "3  boAt Deuce USB 300 2 in 1 Type-C & Micro USB S...   \n",
      "4  Portronics Konnect L 1.2M Fast Charging 3A 8 P...   \n",
      "\n",
      "                                            category               main_cat  \n",
      "0  Computers&Accessories|Accessories&Peripherals|...  Computers&Accessories  \n",
      "1  Computers&Accessories|Accessories&Peripherals|...  Computers&Accessories  \n",
      "2  Computers&Accessories|Accessories&Peripherals|...  Computers&Accessories  \n",
      "3  Computers&Accessories|Accessories&Peripherals|...  Computers&Accessories  \n",
      "4  Computers&Accessories|Accessories&Peripherals|...  Computers&Accessories  \n"
     ]
    }
   ],
   "source": [
    "#The category variable contains 211 unique values. Yet the category is a long string containing progressively smaller and more specific categories. Let's get the main ones\n",
    "\n",
    "print(df.category[0].split('|')[0])\n",
    "\n",
    "df['main_cat'] = df.category.map(lambda x : x.split('|')[0])\n",
    "print(df[['product_name', 'category', 'main_cat']].head())"
   ]
  },
  {
   "cell_type": "code",
   "execution_count": 24,
   "id": "a5f97463-471e-4122-9c5d-9c807b33ca04",
   "metadata": {},
   "outputs": [
    {
     "name": "stdout",
     "output_type": "stream",
     "text": [
      "9\n",
      "main_cat\n",
      "Electronics              0.363232\n",
      "Home&Kitchen             0.332098\n",
      "Computers&Accessories    0.276501\n",
      "OfficeProducts           0.022980\n",
      "MusicalInstruments       0.001483\n",
      "HomeImprovement          0.001483\n",
      "Toys&Games               0.000741\n",
      "Car&Motorbike            0.000741\n",
      "Health&PersonalCare      0.000741\n",
      "Name: proportion, dtype: float64\n"
     ]
    }
   ],
   "source": [
    "print(df.main_cat.nunique())\n",
    "print(df.main_cat.value_counts(normalize=True))"
   ]
  },
  {
   "cell_type": "code",
   "execution_count": 25,
   "id": "912205dc-0994-47fb-abe5-3abc30e4618b",
   "metadata": {},
   "outputs": [
    {
     "name": "stdout",
     "output_type": "stream",
     "text": [
      "399\n",
      "0    399\n",
      "1    199\n",
      "2    199\n",
      "3    329\n",
      "4    154\n",
      "Name: discounted_price, dtype: object\n",
      "Empty DataFrame\n",
      "Columns: [product_id, product_name, category, discounted_price, actual_price, discount_percentage, rating, rating_count, about_product, user_id, user_name, review_id, review_title, review_content, img_link, product_link, main_cat]\n",
      "Index: []\n",
      "0    1,099\n",
      "1      349\n",
      "2    1,899\n",
      "3      699\n",
      "4      399\n",
      "Name: actual_price, dtype: object\n"
     ]
    }
   ],
   "source": [
    "#The price columns have a coin symbol at the beginning which needs to be removed before it can be converted to float \n",
    "print(df.discounted_price[0][1:])\n",
    "df.discounted_price = df.discounted_price.map(lambda x : x[1:])\n",
    "print(df.discounted_price.head())\n",
    "\n",
    "df.actual_price = df.actual_price.map(lambda x : x[1:])\n",
    "print(df.actual_price.head())"
   ]
  },
  {
   "cell_type": "code",
   "execution_count": 56,
   "id": "fdc4b084-6147-4e55-9b4b-ea348bbd1305",
   "metadata": {},
   "outputs": [],
   "source": [
    "df.discounted_price = df.discounted_price.map(lambda x : x.replace(',', '')) \n",
    "df.discounted_price = df.discounted_price.astype(float)"
   ]
  },
  {
   "cell_type": "code",
   "execution_count": 58,
   "id": "408ebd06-27f7-4f71-8365-5de0f594c0bd",
   "metadata": {},
   "outputs": [],
   "source": [
    "df.actual_price = df.actual_price.map(lambda x : x.replace(',', '')) \n",
    "df.actual_price = df.actual_price.astype(float)"
   ]
  },
  {
   "cell_type": "code",
   "execution_count": 63,
   "id": "b3ef311d-b2f6-4f59-a0f2-56183f6c3033",
   "metadata": {},
   "outputs": [],
   "source": [
    "df.rating_count = df.rating_count.map(lambda x: x.replace(',', ''))\n",
    "df.rating_count = df.rating_count.astype(float)"
   ]
  },
  {
   "cell_type": "code",
   "execution_count": 67,
   "id": "bcf6363c-1cb3-489d-be26-96c524d37e47",
   "metadata": {},
   "outputs": [
    {
     "name": "stdout",
     "output_type": "stream",
     "text": [
      "0    64\n",
      "1    43\n",
      "2    90\n",
      "3    53\n",
      "4    61\n",
      "Name: discount_percentage, dtype: object\n"
     ]
    }
   ],
   "source": [
    "df.discount_percentage = df.discount_percentage.map(lambda x: x.replace('%',''))\n",
    "print(df.discount_percentage.head())\n",
    "df.discount_percentage = df.discount_percentage.astype(float)"
   ]
  },
  {
   "cell_type": "code",
   "execution_count": 69,
   "id": "5e89137c-8762-478f-83ec-6bd10042d71f",
   "metadata": {},
   "outputs": [
    {
     "name": "stdout",
     "output_type": "stream",
     "text": [
      "product_id              object\n",
      "product_name            object\n",
      "category                object\n",
      "discounted_price       float64\n",
      "actual_price           float64\n",
      "discount_percentage    float64\n",
      "rating                 float64\n",
      "rating_count           float64\n",
      "about_product           object\n",
      "user_id                 object\n",
      "user_name               object\n",
      "review_id               object\n",
      "review_title            object\n",
      "review_content          object\n",
      "img_link                object\n",
      "product_link            object\n",
      "main_cat                object\n",
      "dtype: object\n"
     ]
    }
   ],
   "source": [
    "print(df.dtypes)"
   ]
  },
  {
   "cell_type": "code",
   "execution_count": 114,
   "id": "d2aa79b6-2bbd-4093-828c-7e0033f239d8",
   "metadata": {},
   "outputs": [
    {
     "name": "stdout",
     "output_type": "stream",
     "text": [
      "                   main_cat  actual_price\n",
      "249             Electronics      139900.0\n",
      "255             Electronics       85000.0\n",
      "283             Electronics       79990.0\n",
      "1354           Home&Kitchen       75990.0\n",
      "568             Electronics       74999.0\n",
      "...                     ...           ...\n",
      "811          OfficeProducts          75.0\n",
      "710   Computers&Accessories          59.0\n",
      "616          OfficeProducts          50.0\n",
      "975   Computers&Accessories          39.0\n",
      "997   Computers&Accessories          39.0\n",
      "\n",
      "[1349 rows x 2 columns]\n"
     ]
    }
   ],
   "source": [
    "print(df[['main_cat', 'actual_price']].sort_values(by = 'actual_price', ascending=False))"
   ]
  },
  {
   "cell_type": "code",
   "execution_count": 188,
   "id": "3c9064be-ea36-4c42-982c-d3525d46d07c",
   "metadata": {},
   "outputs": [
    {
     "name": "stdout",
     "output_type": "stream",
     "text": [
      "main_cat\n",
      "Electronics              10418.083673\n",
      "Home&Kitchen              4162.073661\n",
      "Car&Motorbike             4000.000000\n",
      "Health&PersonalCare       1900.000000\n",
      "Computers&Accessories     1862.350188\n",
      "MusicalInstruments        1347.000000\n",
      "HomeImprovement            799.000000\n",
      "OfficeProducts             397.193548\n",
      "Toys&Games                 150.000000\n",
      "Name: actual_price, dtype: float64\n"
     ]
    }
   ],
   "source": [
    "print(df.groupby('main_cat')['actual_price'].mean().sort_values(ascending = False))"
   ]
  },
  {
   "cell_type": "code",
   "execution_count": 241,
   "id": "36d65e14-1846-4b32-af25-a457c1c5b500",
   "metadata": {},
   "outputs": [
    {
     "name": "stdout",
     "output_type": "stream",
     "text": [
      "main_cat\n",
      "Electronics              5104861.00\n",
      "Home&Kitchen             1864609.00\n",
      "Computers&Accessories     694656.62\n",
      "OfficeProducts             12313.00\n",
      "Car&Motorbike               4000.00\n",
      "MusicalInstruments          2694.00\n",
      "Health&PersonalCare         1900.00\n",
      "HomeImprovement             1598.00\n",
      "Toys&Games                   150.00\n",
      "Name: actual_price, dtype: float64\n"
     ]
    }
   ],
   "source": [
    "print(df.groupby('main_cat')['actual_price'].sum().sort_values(ascending = False))"
   ]
  },
  {
   "cell_type": "code",
   "execution_count": 266,
   "id": "ee7035e7-d866-4cfb-a6f8-84b530e2111e",
   "metadata": {},
   "outputs": [
    {
     "data": {
      "image/png": "[encoded data removed]",
      "text/plain": [
       "<Figure size 2000x600 with 1 Axes>"
      ]
     },
     "metadata": {},
     "output_type": "display_data"
    }
   ],
   "source": [
    "plt.figure(figsize=(20,6))\n",
    "category_order = df.groupby('main_cat')['actual_price'].sum().sort_values(ascending = False).reset_index()\n",
    "sns.barplot(x = 'main_cat', y = 'actual_price', data = category_order, hue = 'main_cat', palette = 'magma')\n",
    "plt.xlabel('')\n",
    "plt.ylabel('Value per category (millions of dollars)')\n",
    "plt.show()\n",
    "plt.close()"
   ]
  },
  {
   "cell_type": "code",
   "execution_count": 192,
   "id": "364e2ea5-d774-4fed-bb40-02c372182989",
   "metadata": {},
   "outputs": [
    {
     "data": {
      "image/png": "[encoded data removed]",
      "text/plain": [
       "<Figure size 2000x600 with 1 Axes>"
      ]
     },
     "metadata": {},
     "output_type": "display_data"
    }
   ],
   "source": [
    "plt.figure(figsize=(20,6))\n",
    "category_order = df.groupby('main_cat')['actual_price'].mean().sort_values(ascending=False).index\n",
    "sns.barplot(y = df.actual_price, x = df.main_cat, hue = df.main_cat, order = category_order)\n",
    "plt.xlabel('')\n",
    "plt.ylabel('Mean item price per category')\n",
    "plt.show()\n",
    "plt.close()"
   ]
  },
  {
   "cell_type": "code",
   "execution_count": 176,
   "id": "d1d83059-27d9-49a7-bc66-654ce40b2ed1",
   "metadata": {},
   "outputs": [
    {
     "data": {
      "image/png": "[encoded data removed]",
      "text/plain": [
       "<Figure size 2000x600 with 1 Axes>"
      ]
     },
     "metadata": {},
     "output_type": "display_data"
    }
   ],
   "source": [
    "plt.figure(figsize=(20, 6))\n",
    "cat_order = df.main_cat.value_counts()\n",
    "sns.countplot(x = df.main_cat, hue = df.main_cat, order = cat_order.index)\n",
    "plt.xlabel('')\n",
    "plt.ylabel('N° of products')\n",
    "plt.show()\n",
    "plt.close()"
   ]
  }
 ],
 "metadata": {
  "kernelspec": {
   "display_name": "Python 3 (ipykernel)",
   "language": "python",
   "name": "python3"
  },
  "language_info": {
   "codemirror_mode": {
    "name": "ipython",
    "version": 3
   },
   "file_extension": ".py",
   "mimetype": "text/x-python",
   "name": "python",
   "nbconvert_exporter": "python",
   "pygments_lexer": "ipython3",
   "version": "3.12.4"
  }
 },
 "nbformat": 4,
 "nbformat_minor": 5
}
