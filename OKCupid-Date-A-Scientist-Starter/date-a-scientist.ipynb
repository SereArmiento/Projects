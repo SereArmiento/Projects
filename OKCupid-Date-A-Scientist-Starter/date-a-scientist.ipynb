{
 "cells": [
  {
   "cell_type": "code",
   "execution_count": 1,
   "metadata": {},
   "outputs": [],
   "source": [
    "import pandas as pd \n",
    "import numpy as np \n",
    "import matplotlib.pyplot as plt \n",
    "import seaborn as sns \n",
    "\n"
   ]
  },
  {
   "cell_type": "code",
   "execution_count": 2,
   "metadata": {},
   "outputs": [
    {
     "name": "stdout",
     "output_type": "stream",
     "text": [
      "   age       body_type               diet    drinks      drugs  \\\n",
      "0   22  a little extra  strictly anything  socially      never   \n",
      "1   35         average       mostly other     often  sometimes   \n",
      "2   38            thin           anything  socially        NaN   \n",
      "3   23            thin         vegetarian  socially        NaN   \n",
      "4   29        athletic                NaN  socially      never   \n",
      "\n",
      "                           education  \\\n",
      "0      working on college/university   \n",
      "1              working on space camp   \n",
      "2     graduated from masters program   \n",
      "3      working on college/university   \n",
      "4  graduated from college/university   \n",
      "\n",
      "                                              essay0  \\\n",
      "0  about me:<br />\\n<br />\\ni would love to think...   \n",
      "1  i am a chef: this is what that means.<br />\\n1...   \n",
      "2  i'm not ashamed of much, but writing public te...   \n",
      "3          i work in a library and go to school. . .   \n",
      "4  hey how's it going? currently vague on the pro...   \n",
      "\n",
      "                                              essay1  \\\n",
      "0  currently working as an international agent fo...   \n",
      "1  dedicating everyday to being an unbelievable b...   \n",
      "2  i make nerdy software for musicians, artists, ...   \n",
      "3          reading things written by old dead people   \n",
      "4                         work work work work + play   \n",
      "\n",
      "                                              essay2  \\\n",
      "0  making people laugh.<br />\\nranting about a go...   \n",
      "1  being silly. having ridiculous amonts of fun w...   \n",
      "2  improvising in different contexts. alternating...   \n",
      "3  playing synthesizers and organizing books acco...   \n",
      "4  creating imagery to look at:<br />\\nhttp://bag...   \n",
      "\n",
      "                                              essay3  ...  \\\n",
      "0  the way i look. i am a six foot half asian, ha...  ...   \n",
      "1                                                NaN  ...   \n",
      "2  my large jaw and large glasses are the physica...  ...   \n",
      "3                  socially awkward but i do my best  ...   \n",
      "4            i smile a lot and my inquisitive nature  ...   \n",
      "\n",
      "                          location  \\\n",
      "0  south san francisco, california   \n",
      "1              oakland, california   \n",
      "2        san francisco, california   \n",
      "3             berkeley, california   \n",
      "4        san francisco, california   \n",
      "\n",
      "                                      offspring orientation  \\\n",
      "0  doesn&rsquo;t have kids, but might want them    straight   \n",
      "1  doesn&rsquo;t have kids, but might want them    straight   \n",
      "2                                           NaN    straight   \n",
      "3                       doesn&rsquo;t want kids    straight   \n",
      "4                                           NaN    straight   \n",
      "\n",
      "                        pets                                  religion sex  \\\n",
      "0  likes dogs and likes cats     agnosticism and very serious about it   m   \n",
      "1  likes dogs and likes cats  agnosticism but not too serious about it   m   \n",
      "2                   has cats                                       NaN   m   \n",
      "3                 likes cats                                       NaN   m   \n",
      "4  likes dogs and likes cats                                       NaN   m   \n",
      "\n",
      "                                 sign     smokes  \\\n",
      "0                              gemini  sometimes   \n",
      "1                              cancer         no   \n",
      "2  pisces but it doesn&rsquo;t matter         no   \n",
      "3                              pisces         no   \n",
      "4                            aquarius         no   \n",
      "\n",
      "                                              speaks     status  \n",
      "0                                            english     single  \n",
      "1  english (fluently), spanish (poorly), french (...     single  \n",
      "2                               english, french, c++  available  \n",
      "3                           english, german (poorly)     single  \n",
      "4                                            english     single  \n",
      "\n",
      "[5 rows x 31 columns]\n"
     ]
    }
   ],
   "source": [
    "df = pd.read_csv('profiles.csv')\n",
    "print(df.head())"
   ]
  },
  {
   "cell_type": "code",
   "execution_count": 3,
   "metadata": {},
   "outputs": [
    {
     "name": "stdout",
     "output_type": "stream",
     "text": [
      "Index(['age', 'body_type', 'diet', 'drinks', 'drugs', 'education', 'essay0',\n",
      "       'essay1', 'essay2', 'essay3', 'essay4', 'essay5', 'essay6', 'essay7',\n",
      "       'essay8', 'essay9', 'ethnicity', 'height', 'income', 'job',\n",
      "       'last_online', 'location', 'offspring', 'orientation', 'pets',\n",
      "       'religion', 'sex', 'sign', 'smokes', 'speaks', 'status'],\n",
      "      dtype='object')\n"
     ]
    }
   ],
   "source": [
    "print(df.columns)"
   ]
  },
  {
   "cell_type": "code",
   "execution_count": 4,
   "metadata": {},
   "outputs": [
    {
     "name": "stdout",
     "output_type": "stream",
     "text": [
      "body_type\n",
      "average           0.268106\n",
      "fit               0.232589\n",
      "athletic          0.216267\n",
      "thin              0.086203\n",
      "curvy             0.071802\n",
      "a little extra    0.048106\n",
      "skinny            0.032516\n",
      "full figured      0.018463\n",
      "overweight        0.008124\n",
      "jacked            0.007704\n",
      "used up           0.006496\n",
      "rather not say    0.003623\n",
      "Name: proportion, dtype: float64\n"
     ]
    }
   ],
   "source": [
    "print(df.body_type.value_counts(normalize= True))"
   ]
  },
  {
   "cell_type": "code",
   "execution_count": 5,
   "metadata": {},
   "outputs": [
    {
     "name": "stdout",
     "output_type": "stream",
     "text": [
      "diet\n",
      "mostly anything        0.466513\n",
      "anything               0.173919\n",
      "strictly anything      0.143822\n",
      "mostly vegetarian      0.096875\n",
      "mostly other           0.028326\n",
      "strictly vegetarian    0.024613\n",
      "vegetarian             0.018762\n",
      "strictly other         0.012714\n",
      "mostly vegan           0.009507\n",
      "other                  0.009311\n",
      "strictly vegan         0.006413\n",
      "vegan                  0.003825\n",
      "mostly kosher          0.002419\n",
      "mostly halal           0.001350\n",
      "strictly halal         0.000506\n",
      "strictly kosher        0.000506\n",
      "halal                  0.000309\n",
      "kosher                 0.000309\n",
      "Name: proportion, dtype: float64\n"
     ]
    }
   ],
   "source": [
    "print(df.diet.value_counts(normalize= True))"
   ]
  },
  {
   "cell_type": "code",
   "execution_count": 6,
   "metadata": {},
   "outputs": [
    {
     "name": "stdout",
     "output_type": "stream",
     "text": [
      "drinks\n",
      "socially       0.733484\n",
      "rarely         0.104580\n",
      "often          0.090659\n",
      "not at all     0.057355\n",
      "very often     0.008269\n",
      "desperately    0.005653\n",
      "Name: proportion, dtype: float64\n"
     ]
    }
   ],
   "source": [
    "print(df.drinks.value_counts(normalize= True))"
   ]
  },
  {
   "cell_type": "code",
   "execution_count": 7,
   "metadata": {},
   "outputs": [
    {
     "name": "stdout",
     "output_type": "stream",
     "text": [
      "drugs\n",
      "never        0.822483\n",
      "sometimes    0.168578\n",
      "often        0.008939\n",
      "Name: proportion, dtype: float64\n"
     ]
    }
   ],
   "source": [
    "print(df.drugs.value_counts(normalize= True))"
   ]
  },
  {
   "cell_type": "code",
   "execution_count": 8,
   "metadata": {},
   "outputs": [
    {
     "name": "stdout",
     "output_type": "stream",
     "text": [
      "education\n",
      "graduated from college/university    0.449360\n",
      "graduated from masters program       0.168067\n",
      "working on college/university        0.107131\n",
      "working on masters program           0.031565\n",
      "graduated from two-year college      0.028715\n",
      "graduated from high school           0.026783\n",
      "graduated from ph.d program          0.023857\n",
      "graduated from law school            0.021044\n",
      "working on two-year college          0.020143\n",
      "dropped out of college/university    0.018662\n",
      "working on ph.d program              0.018437\n",
      "college/university                   0.015023\n",
      "graduated from space camp            0.012322\n",
      "dropped out of space camp            0.009809\n",
      "graduated from med school            0.008365\n",
      "working on space camp                0.008346\n",
      "working on law school                0.005045\n",
      "two-year college                     0.004164\n",
      "working on med school                0.003976\n",
      "dropped out of two-year college      0.003582\n",
      "dropped out of masters program       0.002626\n",
      "masters program                      0.002551\n",
      "dropped out of ph.d program          0.002382\n",
      "dropped out of high school           0.001913\n",
      "high school                          0.001801\n",
      "working on high school               0.001632\n",
      "space camp                           0.001088\n",
      "ph.d program                         0.000488\n",
      "law school                           0.000356\n",
      "dropped out of law school            0.000338\n",
      "dropped out of med school            0.000225\n",
      "med school                           0.000206\n",
      "Name: proportion, dtype: float64\n"
     ]
    }
   ],
   "source": [
    "print(df.education.value_counts(normalize= True))"
   ]
  },
  {
   "cell_type": "code",
   "execution_count": 9,
   "metadata": {},
   "outputs": [
    {
     "name": "stdout",
     "output_type": "stream",
     "text": [
      "location\n",
      "san francisco, california         0.518200\n",
      "oakland, california               0.120342\n",
      "berkeley, california              0.070263\n",
      "san mateo, california             0.022203\n",
      "palo alto, california             0.017749\n",
      "                                    ...   \n",
      "south wellfleet, massachusetts    0.000017\n",
      "orange, california                0.000017\n",
      "astoria, new york                 0.000017\n",
      "london, united kingdom            0.000017\n",
      "rochester, michigan               0.000017\n",
      "Name: proportion, Length: 199, dtype: float64\n"
     ]
    }
   ],
   "source": [
    "print(df.location.value_counts(normalize= True))"
   ]
  },
  {
   "cell_type": "code",
   "execution_count": 10,
   "metadata": {},
   "outputs": [
    {
     "name": "stdout",
     "output_type": "stream",
     "text": [
      "offspring\n",
      "doesn&rsquo;t have kids                                0.310027\n",
      "doesn&rsquo;t have kids, but might want them           0.158909\n",
      "doesn&rsquo;t have kids, but wants them                0.146196\n",
      "doesn&rsquo;t want kids                                0.120033\n",
      "has kids                                               0.077220\n",
      "has a kid                                              0.077138\n",
      "doesn&rsquo;t have kids, and doesn&rsquo;t want any    0.046422\n",
      "has kids, but doesn&rsquo;t want more                  0.018126\n",
      "has a kid, but doesn&rsquo;t want more                 0.011277\n",
      "has a kid, and might want more                         0.009473\n",
      "wants kids                                             0.009227\n",
      "might want kids                                        0.007464\n",
      "has kids, and might want more                          0.004716\n",
      "has a kid, and wants more                              0.002912\n",
      "has kids, and wants more                               0.000861\n",
      "Name: proportion, dtype: float64\n"
     ]
    }
   ],
   "source": [
    "print(df.offspring.value_counts(normalize= True))"
   ]
  },
  {
   "cell_type": "code",
   "execution_count": 11,
   "metadata": {},
   "outputs": [
    {
     "name": "stdout",
     "output_type": "stream",
     "text": [
      "orientation\n",
      "straight    0.860875\n",
      "gay         0.092967\n",
      "bisexual    0.046158\n",
      "Name: proportion, dtype: float64\n"
     ]
    }
   ],
   "source": [
    "print(df.orientation.value_counts(normalize= True))"
   ]
  },
  {
   "cell_type": "code",
   "execution_count": 12,
   "metadata": {},
   "outputs": [
    {
     "name": "stdout",
     "output_type": "stream",
     "text": [
      "pets\n",
      "likes dogs and likes cats          0.370119\n",
      "likes dogs                         0.180487\n",
      "likes dogs and has cats            0.107758\n",
      "has dogs                           0.103285\n",
      "has dogs and likes cats            0.058289\n",
      "likes dogs and dislikes cats       0.050693\n",
      "has dogs and has cats              0.036827\n",
      "has cats                           0.035128\n",
      "likes cats                         0.026558\n",
      "has dogs and dislikes cats         0.013791\n",
      "dislikes dogs and likes cats       0.005996\n",
      "dislikes dogs and dislikes cats    0.004897\n",
      "dislikes cats                      0.003048\n",
      "dislikes dogs and has cats         0.002024\n",
      "dislikes dogs                      0.001099\n",
      "Name: proportion, dtype: float64\n"
     ]
    }
   ],
   "source": [
    "print(df.pets.value_counts(normalize= True))"
   ]
  },
  {
   "cell_type": "code",
   "execution_count": 13,
   "metadata": {},
   "outputs": [
    {
     "name": "stdout",
     "output_type": "stream",
     "text": [
      "religion\n",
      "agnosticism                                   0.068580\n",
      "other                                         0.067749\n",
      "agnosticism but not too serious about it      0.066365\n",
      "agnosticism and laughing about it             0.062840\n",
      "catholicism but not too serious about it      0.058359\n",
      "atheism                                       0.054758\n",
      "other and laughing about it                   0.053348\n",
      "atheism and laughing about it                 0.052216\n",
      "christianity                                  0.049270\n",
      "christianity but not too serious about it     0.049144\n",
      "other but not too serious about it            0.039124\n",
      "judaism but not too serious about it          0.038192\n",
      "atheism but not too serious about it          0.033182\n",
      "catholicism                                   0.026788\n",
      "christianity and somewhat serious about it    0.023338\n",
      "atheism and somewhat serious about it         0.021349\n",
      "other and somewhat serious about it           0.021299\n",
      "catholicism and laughing about it             0.018278\n",
      "judaism and laughing about it                 0.017145\n",
      "buddhism but not too serious about it         0.016365\n",
      "agnosticism and somewhat serious about it     0.016163\n",
      "judaism                                       0.015408\n",
      "christianity and very serious about it        0.014552\n",
      "atheism and very serious about it             0.014350\n",
      "catholicism and somewhat serious about it     0.013797\n",
      "other and very serious about it               0.013419\n",
      "buddhism and laughing about it                0.011732\n",
      "buddhism                                      0.010146\n",
      "christianity and laughing about it            0.009391\n",
      "buddhism and somewhat serious about it        0.009038\n",
      "agnosticism and very serious about it         0.007905\n",
      "judaism and somewhat serious about it         0.006697\n",
      "hinduism but not too serious about it         0.005715\n",
      "hinduism                                      0.002694\n",
      "catholicism and very serious about it         0.002568\n",
      "buddhism and very serious about it            0.001762\n",
      "hinduism and somewhat serious about it        0.001460\n",
      "islam                                         0.001208\n",
      "hinduism and laughing about it                0.001108\n",
      "islam but not too serious about it            0.001007\n",
      "judaism and very serious about it             0.000554\n",
      "islam and somewhat serious about it           0.000554\n",
      "islam and laughing about it                   0.000403\n",
      "hinduism and very serious about it            0.000352\n",
      "islam and very serious about it               0.000327\n",
      "Name: proportion, dtype: float64\n"
     ]
    }
   ],
   "source": [
    "print(df.religion.value_counts(normalize= True))"
   ]
  },
  {
   "cell_type": "code",
   "execution_count": 14,
   "metadata": {},
   "outputs": [
    {
     "name": "stdout",
     "output_type": "stream",
     "text": [
      "sex\n",
      "m    0.597688\n",
      "f    0.402312\n",
      "Name: proportion, dtype: float64\n"
     ]
    }
   ],
   "source": [
    "print(df.sex.value_counts(normalize= True))"
   ]
  },
  {
   "cell_type": "code",
   "execution_count": 15,
   "metadata": {},
   "outputs": [
    {
     "name": "stdout",
     "output_type": "stream",
     "text": [
      "smokes\n",
      "no                0.806408\n",
      "sometimes         0.069570\n",
      "when drinking     0.055847\n",
      "yes               0.040985\n",
      "trying to quit    0.027189\n",
      "Name: proportion, dtype: float64\n"
     ]
    }
   ],
   "source": [
    "print(df.smokes.value_counts(normalize= True))"
   ]
  },
  {
   "cell_type": "code",
   "execution_count": 16,
   "metadata": {},
   "outputs": [
    {
     "name": "stdout",
     "output_type": "stream",
     "text": [
      "status\n",
      "single            0.929120\n",
      "seeing someone    0.034431\n",
      "available         0.031111\n",
      "married           0.005171\n",
      "unknown           0.000167\n",
      "Name: proportion, dtype: float64\n"
     ]
    }
   ],
   "source": [
    "print(df.status.value_counts(normalize= True))"
   ]
  },
  {
   "cell_type": "code",
   "execution_count": 17,
   "metadata": {},
   "outputs": [
    {
     "name": "stdout",
     "output_type": "stream",
     "text": [
      "ethnicity\n",
      "white                                                                 0.605001\n",
      "asian                                                                 0.113036\n",
      "hispanic / latin                                                      0.052022\n",
      "black                                                                 0.037003\n",
      "other                                                                 0.031438\n",
      "                                                                        ...   \n",
      "middle eastern, indian, white                                         0.000018\n",
      "asian, middle eastern, black, white, other                            0.000018\n",
      "asian, middle eastern, indian, hispanic / latin, white, other         0.000018\n",
      "black, native american, indian, pacific islander, hispanic / latin    0.000018\n",
      "asian, black, indian                                                  0.000018\n",
      "Name: proportion, Length: 217, dtype: float64\n"
     ]
    }
   ],
   "source": [
    "print(df.ethnicity.value_counts(normalize= True))"
   ]
  },
  {
   "cell_type": "code",
   "execution_count": 18,
   "metadata": {},
   "outputs": [
    {
     "name": "stdout",
     "output_type": "stream",
     "text": [
      "job\n",
      "other                                0.146653\n",
      "student                              0.094342\n",
      "science / tech / engineering         0.093685\n",
      "computer / hardware / software       0.090999\n",
      "artistic / musical / writer          0.085781\n",
      "sales / marketing / biz dev          0.084854\n",
      "medicine / health                    0.071114\n",
      "education / academia                 0.067887\n",
      "executive / management               0.045857\n",
      "banking / financial / real estate    0.043789\n",
      "entertainment / media                0.043480\n",
      "law / legal services                 0.026687\n",
      "hospitality / travel                 0.026359\n",
      "construction / craftsmanship         0.019730\n",
      "clerical / administrative            0.015556\n",
      "political / government               0.013682\n",
      "rather not say                       0.008425\n",
      "transportation                       0.007073\n",
      "unemployed                           0.005276\n",
      "retired                              0.004831\n",
      "military                             0.003942\n",
      "Name: proportion, dtype: float64\n"
     ]
    }
   ],
   "source": [
    "print(df.job.value_counts(normalize= True))"
   ]
  },
  {
   "cell_type": "code",
   "execution_count": 19,
   "metadata": {},
   "outputs": [],
   "source": [
    "df = df[df.age != 109]\n",
    "df = df[df.age != 110]"
   ]
  },
  {
   "cell_type": "code",
   "execution_count": 20,
   "metadata": {
    "scrolled": true
   },
   "outputs": [
    {
     "name": "stdout",
     "output_type": "stream",
     "text": [
      "                age        height          income\n",
      "count  59944.000000  59941.000000    59944.000000\n",
      "mean      32.337715     68.294857    20033.890965\n",
      "std        9.442423      3.993377    97347.747284\n",
      "min       18.000000      1.000000       -1.000000\n",
      "25%       26.000000     66.000000       -1.000000\n",
      "50%       30.000000     68.000000       -1.000000\n",
      "75%       37.000000     71.000000       -1.000000\n",
      "max       69.000000     95.000000  1000000.000000\n"
     ]
    }
   ],
   "source": [
    "print(df.describe())"
   ]
  },
  {
   "cell_type": "code",
   "execution_count": 21,
   "metadata": {},
   "outputs": [
    {
     "name": "stdout",
     "output_type": "stream",
     "text": [
      "       age body_type                 diet      drinks  drugs  \\\n",
      "2       38      thin             anything    socially    NaN   \n",
      "4       29  athletic                  NaN    socially  never   \n",
      "6       32       fit    strictly anything    socially  never   \n",
      "9       37  athletic      mostly anything  not at all  never   \n",
      "10      35   average      mostly anything    socially    NaN   \n",
      "...    ...       ...                  ...         ...    ...   \n",
      "59931   24       fit  strictly vegetarian      rarely  never   \n",
      "59933   30       NaN                  NaN    socially  never   \n",
      "59937   32      thin             anything    socially    NaN   \n",
      "59940   31       NaN                  NaN    socially  never   \n",
      "59945   39   average                  NaN    socially    NaN   \n",
      "\n",
      "                               education  \\\n",
      "2         graduated from masters program   \n",
      "4      graduated from college/university   \n",
      "6      graduated from college/university   \n",
      "9            working on two-year college   \n",
      "10                                   NaN   \n",
      "...                                  ...   \n",
      "59931  graduated from college/university   \n",
      "59933                                NaN   \n",
      "59937         working on masters program   \n",
      "59940         working on masters program   \n",
      "59945     graduated from masters program   \n",
      "\n",
      "                                                  essay0  \\\n",
      "2      i'm not ashamed of much, but writing public te...   \n",
      "4      hey how's it going? currently vague on the pro...   \n",
      "6      life is about the little things. i love to lau...   \n",
      "9      my names jake.<br />\\ni'm a creative guy and i...   \n",
      "10     update: i'm seeing someone, so off the market ...   \n",
      "...                                                  ...   \n",
      "59931  born in southern india, grew up in dubai, live...   \n",
      "59933  i'm a southern girl from tennesse who moved to...   \n",
      "59937  a cautious photo for a cautious dude (i'm havi...   \n",
      "59940  real deal: i am sensitive (sorry, tears includ...   \n",
      "59945  is it odd that having a little \"enemy\" status ...   \n",
      "\n",
      "                                                  essay1  \\\n",
      "2      i make nerdy software for musicians, artists, ...   \n",
      "4                             work work work work + play   \n",
      "6                             digging up buried treasure   \n",
      "9      i have an apartment. i like to explore and che...   \n",
      "10     i have three jobs. i've been doing sound and l...   \n",
      "...                                                  ...   \n",
      "59931  working as a software engineer in san francisc...   \n",
      "59933  i'm in human resources for a luxury retail com...   \n",
      "59937  mourning the loss (they broke in ecuador i thi...   \n",
      "59940  right now...watching 'celebrity rehab' and com...   \n",
      "59945  i work with elderly people (psychotherapy and ...   \n",
      "\n",
      "                                                  essay2  \\\n",
      "2      improvising in different contexts. alternating...   \n",
      "4      creating imagery to look at:<br />\\nhttp://bag...   \n",
      "6      frolicking<br />\\nwitty banter<br />\\nusing my...   \n",
      "9      i'm good at finding creative solutions to prob...   \n",
      "10     hugging, kissing, laughing, motivating people,...   \n",
      "...                                                  ...   \n",
      "59931  i enjoy biking, hiking, logic puzzles, jugglin...   \n",
      "59933                       listening and giving advice!   \n",
      "59937  conscientiousness. adding -ness to words that ...   \n",
      "59940  eating chocolate and doing pilates (usually no...   \n",
      "59945  i'm a great bullshitter. i don't know what it ...   \n",
      "\n",
      "                                                  essay3  ...  \\\n",
      "2      my large jaw and large glasses are the physica...  ...   \n",
      "4                i smile a lot and my inquisitive nature  ...   \n",
      "6                                  i am the last unicorn  ...   \n",
      "9                                              i'm short  ...   \n",
      "10                                   my huge goofy smile  ...   \n",
      "...                                                  ...  ...   \n",
      "59931  is that i'm an indian guy living in the missio...  ...   \n",
      "59933                                       my smile :-)  ...   \n",
      "59937  probably that i have no hair (unless i'm weari...  ...   \n",
      "59940  my hair? eyes? height? curves? dk....my caring...  ...   \n",
      "59945  either that i am funny/sarcastic, or that i am...  ...   \n",
      "\n",
      "                        location offspring orientation  \\\n",
      "2      san francisco, california       NaN    straight   \n",
      "4      san francisco, california       NaN    straight   \n",
      "6      san francisco, california       NaN    straight   \n",
      "9          san mateo, california       NaN    straight   \n",
      "10     san francisco, california       NaN    straight   \n",
      "...                          ...       ...         ...   \n",
      "59931  san francisco, california       NaN    straight   \n",
      "59933  san francisco, california       NaN    straight   \n",
      "59937  san francisco, california       NaN    bisexual   \n",
      "59940  san francisco, california       NaN    straight   \n",
      "59945  san francisco, california       NaN         gay   \n",
      "\n",
      "                            pets                                  religion  \\\n",
      "2                       has cats                                       NaN   \n",
      "4      likes dogs and likes cats                                       NaN   \n",
      "6      likes dogs and likes cats                                       NaN   \n",
      "9      likes dogs and likes cats             atheism and laughing about it   \n",
      "10                           NaN                                       NaN   \n",
      "...                          ...                                       ...   \n",
      "59931                 likes dogs  agnosticism but not too serious about it   \n",
      "59933                        NaN                              christianity   \n",
      "59937                        NaN             judaism and laughing about it   \n",
      "59940                 likes dogs                               agnosticism   \n",
      "59945  likes dogs and likes cats         catholicism and laughing about it   \n",
      "\n",
      "      sex                                      sign     smokes  \\\n",
      "2       m        pisces but it doesn&rsquo;t matter         no   \n",
      "4       m                                  aquarius         no   \n",
      "6       f                                     virgo        NaN   \n",
      "9       m        cancer but it doesn&rsquo;t matter         no   \n",
      "10      m                                    taurus        yes   \n",
      "...    ..                                       ...        ...   \n",
      "59931   m                                       NaN         no   \n",
      "59933   f                                       NaN        NaN   \n",
      "59937   m                                       NaN         no   \n",
      "59940   f                               sagittarius         no   \n",
      "59945   m  gemini and it&rsquo;s fun to think about  sometimes   \n",
      "\n",
      "                                                  speaks     status  \n",
      "2                                   english, french, c++  available  \n",
      "4                                                english     single  \n",
      "6                                                english     single  \n",
      "9                                     english (fluently)     single  \n",
      "10                                               english  available  \n",
      "...                                                  ...        ...  \n",
      "59931  english (fluently), hindi (poorly), french (po...     single  \n",
      "59933                                            english     single  \n",
      "59937                        english, spanish (fluently)     single  \n",
      "59940                  english (fluently), french, farsi     single  \n",
      "59945                                            english     single  \n",
      "\n",
      "[35560 rows x 31 columns]\n"
     ]
    }
   ],
   "source": [
    "print(df[df.offspring.isna() == True])"
   ]
  },
  {
   "cell_type": "code",
   "execution_count": 22,
   "metadata": {},
   "outputs": [
    {
     "name": "stdout",
     "output_type": "stream",
     "text": [
      "Nan count for age: 0.0\n",
      "Nan count for body_type: 0.09\n",
      "Nan count for diet: 0.41\n",
      "Nan count for drinks: 0.05\n",
      "Nan count for drugs: 0.23\n",
      "Nan count for education: 0.11\n",
      "Nan count for essay0: 0.09\n",
      "Nan count for essay1: 0.13\n",
      "Nan count for essay2: 0.16\n",
      "Nan count for essay3: 0.19\n",
      "Nan count for essay4: 0.18\n",
      "Nan count for essay5: 0.18\n",
      "Nan count for essay6: 0.23\n",
      "Nan count for essay7: 0.21\n",
      "Nan count for essay8: 0.32\n",
      "Nan count for essay9: 0.21\n",
      "Nan count for ethnicity: 0.09\n",
      "Nan count for height: 0.0\n",
      "Nan count for income: 0.0\n",
      "Nan count for job: 0.14\n",
      "Nan count for last_online: 0.0\n",
      "Nan count for location: 0.0\n",
      "Nan count for offspring: 0.59\n",
      "Nan count for orientation: 0.0\n",
      "Nan count for pets: 0.33\n",
      "Nan count for religion: 0.34\n",
      "Nan count for sex: 0.0\n",
      "Nan count for sign: 0.18\n",
      "Nan count for smokes: 0.09\n",
      "Nan count for speaks: 0.0\n",
      "Nan count for status: 0.0\n",
      "   age  body_type  diet  drinks  drugs  education  essay0  essay1  essay2  \\\n",
      "0  0.0       0.09  0.41    0.05   0.23       0.11    0.09    0.13    0.16   \n",
      "\n",
      "   essay3  ...  location  offspring  orientation  pets  religion  sex  sign  \\\n",
      "0    0.19  ...       0.0       0.59          0.0  0.33      0.34  0.0  0.18   \n",
      "\n",
      "   smokes  speaks  status  \n",
      "0    0.09     0.0     0.0  \n",
      "\n",
      "[1 rows x 31 columns]\n"
     ]
    }
   ],
   "source": [
    "df_nan = pd.DataFrame(columns = df.columns)\n",
    "for column in df.columns:\n",
    "    print(f'Nan count for {column}: {round(df[column].isna().sum()/len(df), 2)}')\n",
    "    df_nan[column] = [round(df[column].isna().sum()/len(df), 2)]\n",
    "print(df_nan)"
   ]
  },
  {
   "cell_type": "code",
   "execution_count": 23,
   "metadata": {},
   "outputs": [
    {
     "name": "stdout",
     "output_type": "stream",
     "text": [
      "         column  nan_prop\n",
      "0           age      0.00\n",
      "1     body_type      0.09\n",
      "2          diet      0.41\n",
      "3        drinks      0.05\n",
      "4         drugs      0.23\n",
      "5     education      0.11\n",
      "6        essay0      0.09\n",
      "7        essay1      0.13\n",
      "8        essay2      0.16\n",
      "9        essay3      0.19\n",
      "10       essay4      0.18\n",
      "11       essay5      0.18\n",
      "12       essay6      0.23\n",
      "13       essay7      0.21\n",
      "14       essay8      0.32\n",
      "15       essay9      0.21\n",
      "16    ethnicity      0.09\n",
      "17       height      0.00\n",
      "18       income      0.00\n",
      "19          job      0.14\n",
      "20  last_online      0.00\n",
      "21     location      0.00\n",
      "22    offspring      0.59\n",
      "23  orientation      0.00\n",
      "24         pets      0.33\n",
      "25     religion      0.34\n",
      "26          sex      0.00\n",
      "27         sign      0.18\n",
      "28       smokes      0.09\n",
      "29       speaks      0.00\n",
      "30       status      0.00\n"
     ]
    }
   ],
   "source": [
    "df_nan = pd.melt(frame = df_nan, value_vars = df_nan.columns, value_name = 'nan_prop', var_name = 'column')\n",
    "print(df_nan)"
   ]
  },
  {
   "cell_type": "code",
   "execution_count": 24,
   "metadata": {},
   "outputs": [
    {
     "name": "stdout",
     "output_type": "stream",
     "text": [
      "['Offspring', 'Diet', 'Religion', 'Pets', 'Essay8', 'Essay6', 'Drugs', 'Essay9', 'Essay7', 'Essay3', 'Essay4', 'Essay5', 'Sign', 'Essay2', 'Job', 'Essay1', 'Education', 'Smokes', 'Essay0', 'Ethnicity', 'Body_type', 'Drinks', 'Speaks', 'Sex', 'Age', 'Orientation', 'Location', 'Last_online', 'Income', 'Height', 'Status']\n"
     ]
    }
   ],
   "source": [
    "sorted_nan_count = df_nan.sort_values(by = 'nan_prop', ascending=False).reset_index()\n",
    "\n",
    "column_names = [column.capitalize() for column in sorted_nan_count.column]\n",
    "print(column_names)\n",
    "    "
   ]
  },
  {
   "cell_type": "code",
   "execution_count": 25,
   "metadata": {},
   "outputs": [
    {
     "data": {
      "image/png": "[encoded data removed]",
      "text/plain": [
       "<Figure size 1000x400 with 1 Axes>"
      ]
     },
     "metadata": {},
     "output_type": "display_data"
    }
   ],
   "source": [
    "sorted_nan_count = df_nan.sort_values(by = 'nan_prop', ascending=False).reset_index()\n",
    "\n",
    "\n",
    "plt.figure(figsize=(10, 4))\n",
    "\n",
    "# Use the categorical order to ensure correct sorting in the plot\n",
    "sns.barplot(x=pd.Categorical(sorted_nan_count['index'], categories=sorted_nan_count['index']),\n",
    "            y=sorted_nan_count['nan_prop'])\n",
    "plt.ylabel('Missing data (proportion)')\n",
    "plt.xticks(rotation='vertical', ticks = range(0, 31), labels = column_names)\n",
    "plt.show()\n",
    "plt.close()\n"
   ]
  },
  {
   "cell_type": "markdown",
   "metadata": {},
   "source": [
    "There is up to 60% of missing data in the offspring question, this is probably a sensitive and complex topic that people don't feel comfortable talking about. <br>\n",
    "There is up to 40% missing data in the diet question, again another sensitive topic.\n",
    "Interestingly, between 30% and 35% of data is missing from the questions about religion, pets and essay8. Religion is another sensitive topic therefore not very surprising.\n",
    "However, I was not expecting so much missing data from the pets question, could there be some underlining reason? I could not find information about Essay 8, why does it have up to 10% more missing data compared to the other essays? <br>\n",
    "It might be worth it to fill the nan values in offspring, diet, religion and pets as \"Prefer not to say\". <br>\n",
    "I must say, I am quite surprised by the presence of a sex column instead of a gender column. Also most users in this data are based in California."
   ]
  },
  {
   "cell_type": "code",
   "execution_count": 27,
   "metadata": {},
   "outputs": [
    {
     "name": "stdout",
     "output_type": "stream",
     "text": [
      "drugs\n",
      "never                  37723\n",
      "I prefer not to say    14079\n",
      "sometimes               7732\n",
      "often                    410\n",
      "Name: count, dtype: int64\n"
     ]
    }
   ],
   "source": [
    "df = df.fillna(value = {'offspring': 'I prefer not to say', 'diet': 'I prefer not to say', 'religion': 'I prefer not to say', 'pets': 'I prefer not to say', 'drugs': 'I prefer not to say', 'drinks' : 'I prefer not to say', 'body_type': 'I prefer not to say'})\n",
    "# print(df.head(5))\n",
    "print(df.drugs.value_counts())"
   ]
  },
  {
   "cell_type": "code",
   "execution_count": 28,
   "metadata": {},
   "outputs": [
    {
     "data": {
      "image/png": "[encoded data removed]",
      "text/plain": [
       "<Figure size 640x480 with 1 Axes>"
      ]
     },
     "metadata": {},
     "output_type": "display_data"
    }
   ],
   "source": [
    "sns.histplot(x = df.sex, stat= 'proportion', shrink=0.5)\n",
    "plt.xticks(ticks=[0, 1], labels=['Male', 'Female'])\n",
    "plt.xlabel('Sex')\n",
    "plt.ylabel('Proportion')\n",
    "plt.show()\n",
    "plt.close()"
   ]
  },
  {
   "cell_type": "code",
   "execution_count": 29,
   "metadata": {},
   "outputs": [
    {
     "data": {
      "image/png": "[encoded data removed]",
      "text/plain": [
       "<Figure size 640x480 with 1 Axes>"
      ]
     },
     "metadata": {},
     "output_type": "display_data"
    }
   ],
   "source": [
    "sns.histplot(x = df.age, stat= 'proportion')\n",
    "# plt.xticks(ticks=[0, 1], labels=['Male', 'Female'])\n",
    "plt.xlabel('Age')\n",
    "plt.ylabel('Proportion')\n",
    "plt.show()\n",
    "plt.close()"
   ]
  },
  {
   "cell_type": "code",
   "execution_count": 30,
   "metadata": {
    "scrolled": true
   },
   "outputs": [
    {
     "name": "stdout",
     "output_type": "stream",
     "text": [
      "education\n",
      "College        0.518315\n",
      "Student        0.196260\n",
      "Master         0.170621\n",
      "Other          0.052947\n",
      "High school    0.028584\n",
      "PhD            0.024345\n",
      "Med school     0.008571\n",
      "Law school     0.000356\n",
      "Name: proportion, dtype: float64\n"
     ]
    }
   ],
   "source": [
    "map_edu = {\n",
    "    'graduated from college/university': 'College',\n",
    "    'graduated from masters program': 'Master',\n",
    "    'working on college/university': 'Student',\n",
    "    'working on masters program': 'Student',\n",
    "    'graduated from two-year college': 'College',\n",
    "    'graduated from high school': 'High school',\n",
    "    'graduated from ph.d program': 'PhD', \n",
    "    'graduated from law school': 'College', \n",
    "    'working on two-year college': 'Student',\n",
    "    'dropped out of college/university': 'Other', \n",
    "    'working on ph.d program': 'Student', \n",
    "    'college/university': 'College',\n",
    "    'graduated from space camp': 'Other',\n",
    "    'dropped out of space camp': 'Other', \n",
    "    'graduated from med school': 'Med school', \n",
    "    'working on space camp': 'Student', \n",
    "    'working on law school': 'Student', \n",
    "    'two-year college': 'College', \n",
    "    'working on med school': 'Student', \n",
    "    'dropped out of two-year college': 'Other',\n",
    "    'dropped out of masters program': 'Other', \n",
    "    'masters program': 'Master', \n",
    "    'dropped out of ph.d program': 'Other', \n",
    "    'dropped out of high school': 'Other', \n",
    "    'high school': 'High school',  \n",
    "    'working on high school': 'Student', \n",
    "    'space camp': 'Other', \n",
    "    'ph.d program': 'PhD', \n",
    "    'law school': 'Law school',\n",
    "    'dropped out of law school': 'Other', \n",
    "    'dropped out of med school': 'Other', \n",
    "    'med school': 'Med school'\n",
    "}\n",
    "df.education = df.education.map(map_edu)\n",
    "print(df.education.value_counts(normalize=True))"
   ]
  },
  {
   "cell_type": "code",
   "execution_count": 31,
   "metadata": {},
   "outputs": [
    {
     "data": {
      "image/png": "[encoded data removed]",
      "text/plain": [
       "<Figure size 1000x400 with 1 Axes>"
      ]
     },
     "metadata": {},
     "output_type": "display_data"
    }
   ],
   "source": [
    "plt.figure(figsize=(10, 4))\n",
    "sns.countplot(x = df.education, stat= 'proportion', hue = df.education, legend=False, palette= 'viridis')\n",
    "plt.xlabel('Education')\n",
    "plt.ylabel('Proportion')  \n",
    "plt.show()\n",
    "plt.close()"
   ]
  },
  {
   "cell_type": "code",
   "execution_count": 32,
   "metadata": {},
   "outputs": [
    {
     "name": "stdout",
     "output_type": "stream",
     "text": [
      "ethnicity\n",
      "white                 0.547695\n",
      "Other                 0.261060\n",
      "asian                 0.102329\n",
      "hispanic / latin      0.047094\n",
      "black                 0.033498\n",
      "Native / Pac. isl.    0.008324\n",
      "Name: proportion, dtype: float64\n"
     ]
    }
   ],
   "source": [
    "# Use vectorized operations to modify the 'ethnicity' column\n",
    "df.loc[df.ethnicity == 'pacific islander', 'ethnicity'] = 'Native / Pac. isl.'\n",
    "df.loc[df.ethnicity == 'native american', 'ethnicity'] = 'Native / Pac. isl.'\n",
    "\n",
    "# Assign 'Other' to all values that are not in the specified categories\n",
    "df.loc[~df.ethnicity.isin(['white', 'asian', 'hispanic / latin', 'Native / Pac. isl.', 'black']), 'ethnicity'] = 'Other'\n",
    "\n",
    "print(df.ethnicity.value_counts(normalize=True))"
   ]
  },
  {
   "cell_type": "code",
   "execution_count": 33,
   "metadata": {},
   "outputs": [
    {
     "data": {
      "image/png": "[encoded data removed]",
      "text/plain": [
       "<Figure size 1000x400 with 1 Axes>"
      ]
     },
     "metadata": {},
     "output_type": "display_data"
    }
   ],
   "source": [
    "plt.figure(figsize=(10, 4))\n",
    "sns.countplot(x = df.ethnicity, hue = df.ethnicity, stat = 'proportion', palette= 'plasma')\n",
    "plt.xlabel('Ethnicity')\n",
    "plt.ylabel('Proportion')\n",
    "plt.show()\n",
    "plt.close()"
   ]
  },
  {
   "cell_type": "code",
   "execution_count": 34,
   "metadata": {},
   "outputs": [
    {
     "name": "stdout",
     "output_type": "stream",
     "text": [
      "['doesn&rsquo;t have kids, but might want them' 'I prefer not to say'\n",
      " 'doesn&rsquo;t want kids' 'doesn&rsquo;t have kids, but wants them'\n",
      " 'doesn&rsquo;t have kids' 'wants kids' 'has a kid' 'has kids'\n",
      " 'doesn&rsquo;t have kids, and doesn&rsquo;t want any'\n",
      " 'has kids, but doesn&rsquo;t want more'\n",
      " 'has a kid, but doesn&rsquo;t want more' 'has a kid, and wants more'\n",
      " 'has kids, and might want more' 'might want kids'\n",
      " 'has a kid, and might want more' 'has kids, and wants more']\n"
     ]
    }
   ],
   "source": [
    "print(df.offspring.unique())"
   ]
  },
  {
   "cell_type": "code",
   "execution_count": 35,
   "metadata": {},
   "outputs": [
    {
     "name": "stdout",
     "output_type": "stream",
     "text": [
      "kids\n",
      "0.0    0.91794\n",
      "1.0    0.08206\n",
      "Name: proportion, dtype: float64\n"
     ]
    }
   ],
   "source": [
    "df.loc[df.offspring == 'has kids, and might want more', 'kids'] = 1\n",
    "df.loc[df.offspring == 'has a kid, and might want more', 'kids'] = 1\n",
    "df.loc[df.offspring == 'has a kid, and wants more', 'kids'] = 1\n",
    "df.loc[df.offspring == 'has kids, and wants more', 'kids'] = 1\n",
    "df.loc[df.offspring == 'has a kid, but doesn&rsquo;t want more', 'kids'] = 1\n",
    "df.loc[df.offspring == 'has kids, but doesn&rsquo;t want more', 'kids'] = 1\n",
    "df.loc[df.offspring == 'has a kid', 'kids'] = 1\n",
    "df.loc[df.offspring == 'has kids', 'kids'] = 1\n",
    "\n",
    "df.loc[~df.kids.isin([1]), 'kids'] = 0\n",
    "\n",
    "print(df.kids.value_counts(normalize=True))"
   ]
  },
  {
   "cell_type": "code",
   "execution_count": 36,
   "metadata": {},
   "outputs": [
    {
     "name": "stdout",
     "output_type": "stream",
     "text": [
      "offspring\n",
      "I prefer not to say    0.593220\n",
      "Don't know             0.188910\n",
      "no                     0.079674\n",
      "maybe                  0.073435\n",
      "yes                    0.064760\n",
      "Name: proportion, dtype: float64\n"
     ]
    }
   ],
   "source": [
    "# Use vectorized operations to modify the 'offspring' column\n",
    "df.loc[df.offspring == 'doesn&rsquo;t have kids, but might want them', 'offspring'] = 'maybe'\n",
    "df.loc[df.offspring == 'has kids, and might want more', 'offspring'] = 'maybe'\n",
    "df.loc[df.offspring == 'has a kid, and might want more', 'offspring'] = 'maybe'\n",
    "df.loc[df.offspring == 'might want kids', 'offspring'] = 'maybe'\n",
    "df.loc[df.offspring == 'doesn&rsquo;t have kids, but wants them', 'offspring'] = 'yes'\n",
    "df.loc[df.offspring == 'wants kids', 'offspring'] = 'yes'\n",
    "df.loc[df.offspring == 'has a kid, and wants more', 'offspring'] = 'yes'\n",
    "df.loc[df.offspring == 'has kids, and wants more', 'offspring'] = 'yes'\n",
    "df.loc[df.offspring == 'doesn&rsquo;t want kids', 'offspring'] = 'no'\n",
    "df.loc[df.offspring == 'has a kid, but doesn&rsquo;t want more', 'offspring'] = 'no'\n",
    "df.loc[df.offspring == 'has kids, but doesn&rsquo;t want more', 'offspring'] = 'no'\n",
    "df.loc[df.offspring == 'doesn&rsquo;t have kids, and doesn&rsquo;t want any', 'offspring'] = 'no'\n",
    "\n",
    "# Assign 'Other' to all values that are not in the specified categories\n",
    "df.loc[~df.offspring.isin(['yes', 'maybe', 'no', 'I prefer not to say']), 'offspring'] = 'Don\\'t know'\n",
    "\n",
    "print(df.offspring.value_counts(normalize=True))"
   ]
  },
  {
   "cell_type": "code",
   "execution_count": 74,
   "metadata": {},
   "outputs": [
    {
     "name": "stdout",
     "output_type": "stream",
     "text": [
      "['likes dogs and likes cats' 'has cats' 'likes cats' 'I prefer not to say'\n",
      " 'has dogs and likes cats' 'likes dogs and has cats'\n",
      " 'likes dogs and dislikes cats' 'has dogs' 'has dogs and dislikes cats'\n",
      " 'likes dogs' 'has dogs and has cats' 'dislikes dogs and has cats'\n",
      " 'dislikes dogs and dislikes cats' 'dislikes cats'\n",
      " 'dislikes dogs and likes cats' 'dislikes dogs']\n"
     ]
    }
   ],
   "source": [
    "print(df.pets.unique())"
   ]
  },
  {
   "cell_type": "code",
   "execution_count": 84,
   "metadata": {},
   "outputs": [
    {
     "name": "stdout",
     "output_type": "stream",
     "text": [
      "has_pet\n",
      "0.0    0.761561\n",
      "2.0    0.117093\n",
      "1.0    0.096757\n",
      "3.0    0.024590\n",
      "Name: proportion, dtype: float64\n"
     ]
    }
   ],
   "source": [
    "df.loc[df.pets == 'has cats', 'has_pet'] = 1\n",
    "df.loc[df.pets == 'has dogs and likes cats', 'has_pet'] = 2\n",
    "df.loc[df.pets == 'likes dogs and has cats', 'has_pet'] = 1\n",
    "df.loc[df.pets == 'has dogs', 'has_pet'] = 2\n",
    "df.loc[df.pets == 'has dogs and dislikes cats', 'has_pet'] = 2\n",
    "df.loc[df.pets == 'has dogs and has cats', 'has_pet'] = 3\n",
    "df.loc[df.pets == 'dislikes dogs and has cats', 'has_pet'] = 1\n",
    "\n",
    "df.loc[~df.has_pet.isin([1, 2, 3]), 'has_pet'] = 0\n",
    "print(df.has_pet.value_counts(normalize=True))"
   ]
  },
  {
   "cell_type": "code",
   "execution_count": 86,
   "metadata": {},
   "outputs": [
    {
     "name": "stdout",
     "output_type": "stream",
     "text": [
      "pets\n",
      "both                   0.382590\n",
      "I prefer not to say    0.332293\n",
      "dogs                   0.232534\n",
      "cats                   0.046543\n",
      "neither                0.006039\n",
      "Name: proportion, dtype: float64\n"
     ]
    }
   ],
   "source": [
    "map_pets = {\n",
    "    'likes dogs and likes cats': 'both',\n",
    "    'has cats': 'cats',\n",
    "    'likes cats': 'cats',\n",
    "    'I prefer not to say': 'I prefer not to say', \n",
    "    'has dogs and likes cats': 'both', \n",
    "    'likes dogs and has cats': 'both',\n",
    "    'likes dogs and dislikes cats': 'dogs', \n",
    "    'has dogs': 'dogs', \n",
    "    'has dogs and dislikes cats': 'dogs',\n",
    "    'likes dogs': 'dogs', \n",
    "    'has dogs and has cats': 'both', \n",
    "    'dislikes dogs and has cats': 'cats', \n",
    "    'dislikes dogs and dislikes cats': 'neither',\n",
    "    'dislikes cats': 'neither', \n",
    "    'dislikes dogs and likes cats': 'cats',\n",
    "    'dislikes dogs': 'neither'\n",
    "}\n",
    "df.pets = df.pets.map(map_pets)\n",
    "print(df.pets.value_counts(normalize=True))"
   ]
  },
  {
   "cell_type": "code",
   "execution_count": 94,
   "metadata": {},
   "outputs": [
    {
     "name": "stdout",
     "output_type": "stream",
     "text": [
      "sex                         f         m\n",
      "offspring                              \n",
      "Don't know           0.084496  0.104414\n",
      "I prefer not to say  0.220606  0.372614\n",
      "maybe                0.028427  0.045009\n",
      "no                   0.035333  0.044341\n",
      "yes                  0.033448  0.031313\n"
     ]
    }
   ],
   "source": [
    "con_table = pd.crosstab(df.offspring, df.sex, normalize = True)\n",
    "print(con_table)\n",
    "#Cannot find obvious correlations among cat variables"
   ]
  },
  {
   "cell_type": "code",
   "execution_count": 102,
   "metadata": {},
   "outputs": [
    {
     "name": "stdout",
     "output_type": "stream",
     "text": [
      "0        2012-06-28-20-30\n",
      "1        2012-06-29-21-41\n",
      "2        2012-06-27-09-10\n",
      "3        2012-06-28-14-22\n",
      "4        2012-06-27-21-26\n",
      "               ...       \n",
      "59941    2012-06-12-21-47\n",
      "59942    2012-06-29-11-01\n",
      "59943    2012-06-27-23-37\n",
      "59944    2012-06-23-13-01\n",
      "59945    2012-06-29-00-42\n",
      "Name: last_online, Length: 59944, dtype: object\n"
     ]
    }
   ],
   "source": [
    "print(df.last_online)\n",
    "#This data dates back to 2012, without knowing when the database was saved, there's little I can do with it. "
   ]
  },
  {
   "cell_type": "markdown",
   "metadata": {},
   "source": [
    "With the data I have i can perform user segmentation using an unsupervised machine learning algorithm or build a recommendation system. <br>\n",
    "This is the roadmap for the user segmentation: <br>\n",
    "1. Standardize the numerical variables\n",
    "2. Encode the categorical variables\n",
    "3. Perform feature engineering (wrapper method) to choose the features to feed to the model\n",
    "4. Choose a number of clusters (inertia or silhouette score)\n",
    "5. Apply the chosen features and number of clusters to the k means model\n",
    "6. Interpret the results "
   ]
  },
  {
   "cell_type": "code",
   "execution_count": null,
   "metadata": {},
   "outputs": [],
   "source": []
  }
 ],
 "metadata": {
  "kernelspec": {
   "display_name": "Python 3 (ipykernel)",
   "language": "python",
   "name": "python3"
  },
  "language_info": {
   "codemirror_mode": {
    "name": "ipython",
    "version": 3
   },
   "file_extension": ".py",
   "mimetype": "text/x-python",
   "name": "python",
   "nbconvert_exporter": "python",
   "pygments_lexer": "ipython3",
   "version": "3.12.4"
  }
 },
 "nbformat": 4,
 "nbformat_minor": 4
}
